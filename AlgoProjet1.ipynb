{
 "cells": [
  {
   "cell_type": "code",
   "execution_count": 1,
   "metadata": {},
   "outputs": [],
   "source": [
    "def placer_reine(i, j):\n",
    "    #Vérifier le ligne\n",
    "    for k in range(0,N):\n",
    "        if myChessBoard[i][k]==1 or myChessBoard[k][j]==1:\n",
    "            return True\n",
    "    #Vérifier le diagonale\n",
    "    for k in range(0,N):\n",
    "        for l in range(0,N):\n",
    "            if (k+l==i+j) or (k-l==i-j):\n",
    "                if myChessBoard[k][l]==1:\n",
    "                    return True\n",
    "    return False"
   ]
  },
  {
   "cell_type": "code",
   "execution_count": 2,
   "metadata": {},
   "outputs": [],
   "source": [
    "def placer_toutes_reines(n):\n",
    "\n",
    "    if n==0:\n",
    "        print(\"probléme simple = 0\")\n",
    "        return True\n",
    "    for i in range(0,N):\n",
    "        for j in range(0,N):\n",
    "\n",
    "            if (not(placer_reine(i, j))) and (myChessBoard[i][j] != 1):\n",
    "                myChessBoard[i][j] = 1\n",
    "                if placer_toutes_reines(n - 1)==True:\n",
    "                    return True\n",
    "                myChessBoard[i][j] = 0\n",
    "\n",
    "    return False"
   ]
  },
  {
   "cell_type": "code",
   "execution_count": 3,
   "metadata": {},
   "outputs": [
    {
     "name": "stdout",
     "output_type": "stream",
     "text": [
      "Entrer le nombre des reines\n",
      "4\n",
      "probléme simple = 0\n",
      "[0, 1, 0, 0]\n",
      "[0, 0, 0, 1]\n",
      "[1, 0, 0, 0]\n",
      "[0, 0, 1, 0]\n"
     ]
    }
   ],
   "source": [
    "#Main\n",
    "#########################\n",
    "\n",
    "#saisir le nombre des reines\n",
    "print (\"Entrer le nombre des reines\")\n",
    "N = int(input())\n",
    "\n",
    "myChessBoard = [[0] * N for _ in range(N)]\n",
    "placer_toutes_reines(N)\n",
    "\n",
    "#affichage\n",
    "for i in myChessBoard:\n",
    "    print (i)"
   ]
  },
  {
   "cell_type": "code",
   "execution_count": null,
   "metadata": {},
   "outputs": [],
   "source": []
  }
 ],
 "metadata": {
  "kernelspec": {
   "display_name": "Python 3",
   "language": "python",
   "name": "python3"
  },
  "language_info": {
   "codemirror_mode": {
    "name": "ipython",
    "version": 3
   },
   "file_extension": ".py",
   "mimetype": "text/x-python",
   "name": "python",
   "nbconvert_exporter": "python",
   "pygments_lexer": "ipython3",
   "version": "3.8.3"
  }
 },
 "nbformat": 4,
 "nbformat_minor": 4
}
